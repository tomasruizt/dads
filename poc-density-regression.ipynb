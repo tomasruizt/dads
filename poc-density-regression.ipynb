{
 "cells": [
  {
   "cell_type": "code",
   "execution_count": 1,
   "metadata": {},
   "outputs": [],
   "source": [
    "import tensorflow_probability as tfp \n",
    "from tensorflow_probability import distributions as d\n",
    "import matplotlib.pyplot as plt\n",
    "%matplotlib inline\n",
    "\n",
    "mvn = d.MultivariateNormalDiag\n",
    "mvn1 = mvn(loc=[-3, 0])\n",
    "mvn2 = mvn(loc=[3, 0])"
   ]
  },
  {
   "cell_type": "code",
   "execution_count": 2,
   "metadata": {},
   "outputs": [],
   "source": [
    "dist = d.Mixture(cat=d.Categorical([0.5, 0.5]), components=[mvn1, mvn2])"
   ]
  },
  {
   "cell_type": "code",
   "execution_count": 3,
   "metadata": {},
   "outputs": [],
   "source": [
    "samples = dist.sample(10000)\n",
    "probs = dist.prob(samples)"
   ]
  },
  {
   "cell_type": "code",
   "execution_count": 4,
   "metadata": {},
   "outputs": [
    {
     "data": {
      "text/plain": [
       "<matplotlib.tri.tricontour.TriContourSet at 0x7ff370092e10>"
      ]
     },
     "execution_count": 4,
     "metadata": {},
     "output_type": "execute_result"
    },
    {
     "data": {
      "image/png": "[encoded data removed]",
      "text/plain": [
       "<Figure size 432x288 with 1 Axes>"
      ]
     },
     "metadata": {
      "needs_background": "light"
     },
     "output_type": "display_data"
    }
   ],
   "source": [
    "plt.tricontourf(*samples.numpy().T, probs)"
   ]
  },
  {
   "cell_type": "code",
   "execution_count": 5,
   "metadata": {},
   "outputs": [],
   "source": [
    "import tensorflow.keras as tfk"
   ]
  },
  {
   "cell_type": "code",
   "execution_count": 6,
   "metadata": {},
   "outputs": [],
   "source": [
    "hidden_size = 128\n",
    "activation = \"tanh\"\n",
    "\n",
    "net = tfk.Sequential([\n",
    "    tfk.layers.InputLayer(2),\n",
    "    tfk.layers.Dense(hidden_size, activation=activation),\n",
    "    tfk.layers.Dense(hidden_size, activation=activation),\n",
    "    tfk.layers.Dense(hidden_size, activation=activation),\n",
    "    tfk.layers.Dense(1)\n",
    "])\n",
    "\n",
    "model = tfk.Model(inputs=net.inputs, outputs=net.outputs)\n",
    "model.compile(loss=\"mse\")"
   ]
  },
  {
   "cell_type": "code",
   "execution_count": 7,
   "metadata": {},
   "outputs": [
    {
     "name": "stdout",
     "output_type": "stream",
     "text": [
      "Epoch 1/100\n",
      "313/313 [==============================] - 0s 917us/step - loss: 0.0362\n",
      "Epoch 2/100\n",
      "313/313 [==============================] - 0s 883us/step - loss: 0.0026\n",
      "Epoch 3/100\n",
      "313/313 [==============================] - 0s 878us/step - loss: 0.0017\n",
      "Epoch 4/100\n",
      "313/313 [==============================] - 0s 885us/step - loss: 0.0018\n",
      "Epoch 5/100\n",
      "313/313 [==============================] - 0s 925us/step - loss: 0.0012\n",
      "Epoch 6/100\n",
      "313/313 [==============================] - 0s 866us/step - loss: 8.6100e-04\n",
      "Epoch 7/100\n",
      "313/313 [==============================] - 0s 832us/step - loss: 7.4727e-04\n",
      "Epoch 8/100\n",
      "313/313 [==============================] - 0s 867us/step - loss: 6.5911e-04\n",
      "Epoch 9/100\n",
      "313/313 [==============================] - 0s 879us/step - loss: 5.9762e-04\n",
      "Epoch 10/100\n",
      "313/313 [==============================] - 0s 864us/step - loss: 5.7263e-04\n",
      "Epoch 11/100\n",
      "313/313 [==============================] - 0s 906us/step - loss: 5.1358e-04\n",
      "Epoch 12/100\n",
      "313/313 [==============================] - 0s 858us/step - loss: 4.1337e-04\n",
      "Epoch 13/100\n",
      "313/313 [==============================] - 0s 876us/step - loss: 3.5222e-04\n",
      "Epoch 14/100\n",
      "313/313 [==============================] - 0s 879us/step - loss: 3.3014e-04\n",
      "Epoch 15/100\n",
      "313/313 [==============================] - 0s 888us/step - loss: 3.2058e-04\n",
      "Epoch 16/100\n",
      "313/313 [==============================] - 0s 859us/step - loss: 3.1283e-04\n",
      "Epoch 17/100\n",
      "313/313 [==============================] - 0s 850us/step - loss: 3.0741e-04\n",
      "Epoch 18/100\n",
      "313/313 [==============================] - 0s 848us/step - loss: 3.0551e-04\n",
      "Epoch 19/100\n",
      "313/313 [==============================] - 0s 858us/step - loss: 3.0272e-04\n",
      "Epoch 20/100\n",
      "313/313 [==============================] - 0s 876us/step - loss: 2.9864e-04\n",
      "Epoch 21/100\n",
      "313/313 [==============================] - 0s 865us/step - loss: 3.0092e-04\n",
      "Epoch 22/100\n",
      "313/313 [==============================] - 0s 882us/step - loss: 2.9997e-04\n",
      "Epoch 23/100\n",
      "313/313 [==============================] - 0s 872us/step - loss: 2.9798e-04\n",
      "Epoch 24/100\n",
      "313/313 [==============================] - 0s 883us/step - loss: 2.9543e-04\n",
      "Epoch 25/100\n",
      "313/313 [==============================] - 0s 869us/step - loss: 2.9667e-04\n",
      "Epoch 26/100\n",
      "313/313 [==============================] - 0s 899us/step - loss: 2.9622e-04\n",
      "Epoch 27/100\n",
      "313/313 [==============================] - 0s 858us/step - loss: 2.9487e-04\n",
      "Epoch 28/100\n",
      "313/313 [==============================] - 0s 843us/step - loss: 2.9482e-04\n",
      "Epoch 29/100\n",
      "313/313 [==============================] - 0s 889us/step - loss: 2.9334e-04\n",
      "Epoch 30/100\n",
      "313/313 [==============================] - 0s 842us/step - loss: 2.9400e-04\n",
      "Epoch 31/100\n",
      "313/313 [==============================] - 0s 854us/step - loss: 2.9268e-04\n",
      "Epoch 32/100\n",
      "313/313 [==============================] - 0s 827us/step - loss: 2.9284e-04\n",
      "Epoch 33/100\n",
      "313/313 [==============================] - 0s 856us/step - loss: 2.9357e-04\n",
      "Epoch 34/100\n",
      "313/313 [==============================] - 0s 854us/step - loss: 2.9299e-04\n",
      "Epoch 35/100\n",
      "313/313 [==============================] - 0s 871us/step - loss: 2.9238e-04\n",
      "Epoch 36/100\n",
      "313/313 [==============================] - 0s 853us/step - loss: 2.9198e-04\n",
      "Epoch 37/100\n",
      "313/313 [==============================] - 0s 848us/step - loss: 2.9154e-04\n",
      "Epoch 38/100\n",
      "313/313 [==============================] - 0s 847us/step - loss: 2.9150e-04\n",
      "Epoch 39/100\n",
      "313/313 [==============================] - 0s 850us/step - loss: 2.9118e-04\n",
      "Epoch 40/100\n",
      "313/313 [==============================] - 0s 851us/step - loss: 2.8917e-04\n",
      "Epoch 41/100\n",
      "313/313 [==============================] - 0s 853us/step - loss: 2.9002e-04\n",
      "Epoch 42/100\n",
      "313/313 [==============================] - 0s 886us/step - loss: 2.8917e-04\n",
      "Epoch 43/100\n",
      "313/313 [==============================] - 0s 840us/step - loss: 2.8982e-04\n",
      "Epoch 44/100\n",
      "313/313 [==============================] - 0s 858us/step - loss: 2.8895e-04\n",
      "Epoch 45/100\n",
      "313/313 [==============================] - 0s 880us/step - loss: 2.8861e-04\n",
      "Epoch 46/100\n",
      "313/313 [==============================] - 0s 872us/step - loss: 2.8828e-04\n",
      "Epoch 47/100\n",
      "313/313 [==============================] - 0s 859us/step - loss: 2.8635e-04\n",
      "Epoch 48/100\n",
      "313/313 [==============================] - 0s 845us/step - loss: 2.8733e-04\n",
      "Epoch 49/100\n",
      "313/313 [==============================] - 0s 877us/step - loss: 2.8615e-04\n",
      "Epoch 50/100\n",
      "313/313 [==============================] - 0s 841us/step - loss: 2.8465e-04\n",
      "Epoch 51/100\n",
      "313/313 [==============================] - 0s 862us/step - loss: 2.7746e-04\n",
      "Epoch 52/100\n",
      "313/313 [==============================] - 0s 860us/step - loss: 2.2825e-04\n",
      "Epoch 53/100\n",
      "313/313 [==============================] - 0s 845us/step - loss: 7.4322e-05\n",
      "Epoch 54/100\n",
      "313/313 [==============================] - 0s 847us/step - loss: 4.3869e-05\n",
      "Epoch 55/100\n",
      "313/313 [==============================] - 0s 857us/step - loss: 3.1270e-05\n",
      "Epoch 56/100\n",
      "313/313 [==============================] - 0s 872us/step - loss: 2.1327e-05\n",
      "Epoch 57/100\n",
      "313/313 [==============================] - 0s 844us/step - loss: 1.7734e-05\n",
      "Epoch 58/100\n",
      "313/313 [==============================] - 0s 842us/step - loss: 1.5610e-05\n",
      "Epoch 59/100\n",
      "313/313 [==============================] - 0s 838us/step - loss: 1.4606e-05\n",
      "Epoch 60/100\n",
      "313/313 [==============================] - 0s 834us/step - loss: 1.4035e-05\n",
      "Epoch 61/100\n",
      "313/313 [==============================] - 0s 841us/step - loss: 1.2492e-05\n",
      "Epoch 62/100\n",
      "313/313 [==============================] - 0s 840us/step - loss: 1.2564e-05\n",
      "Epoch 63/100\n",
      "313/313 [==============================] - 0s 853us/step - loss: 1.1835e-05\n",
      "Epoch 64/100\n",
      "313/313 [==============================] - 0s 834us/step - loss: 1.1467e-05\n",
      "Epoch 65/100\n",
      "313/313 [==============================] - 0s 835us/step - loss: 1.1273e-05\n",
      "Epoch 66/100\n",
      "313/313 [==============================] - 0s 815us/step - loss: 1.0574e-05\n",
      "Epoch 67/100\n",
      "313/313 [==============================] - 0s 819us/step - loss: 1.1145e-05\n",
      "Epoch 68/100\n",
      "313/313 [==============================] - 0s 838us/step - loss: 1.0711e-05\n",
      "Epoch 69/100\n",
      "313/313 [==============================] - 0s 856us/step - loss: 9.9615e-06\n",
      "Epoch 70/100\n",
      "313/313 [==============================] - 0s 821us/step - loss: 1.0179e-05\n",
      "Epoch 71/100\n",
      "313/313 [==============================] - 0s 836us/step - loss: 9.9102e-06\n",
      "Epoch 72/100\n",
      "313/313 [==============================] - 0s 850us/step - loss: 9.2874e-06\n",
      "Epoch 73/100\n",
      "313/313 [==============================] - 0s 826us/step - loss: 9.5169e-06\n",
      "Epoch 74/100\n",
      "313/313 [==============================] - 0s 835us/step - loss: 9.0482e-06\n",
      "Epoch 75/100\n",
      "313/313 [==============================] - 0s 841us/step - loss: 8.8273e-06\n",
      "Epoch 76/100\n",
      "313/313 [==============================] - 0s 858us/step - loss: 9.0109e-06\n",
      "Epoch 77/100\n",
      "313/313 [==============================] - 0s 844us/step - loss: 8.9404e-06\n",
      "Epoch 78/100\n",
      "313/313 [==============================] - 0s 863us/step - loss: 8.5610e-06\n",
      "Epoch 79/100\n",
      "313/313 [==============================] - 0s 819us/step - loss: 8.2989e-06\n",
      "Epoch 80/100\n",
      "313/313 [==============================] - 0s 842us/step - loss: 8.3139e-06\n",
      "Epoch 81/100\n",
      "313/313 [==============================] - 0s 834us/step - loss: 8.0736e-06\n",
      "Epoch 82/100\n",
      "313/313 [==============================] - 0s 838us/step - loss: 7.8002e-06\n",
      "Epoch 83/100\n",
      "313/313 [==============================] - 0s 860us/step - loss: 7.7283e-06\n",
      "Epoch 84/100\n",
      "313/313 [==============================] - 0s 840us/step - loss: 7.8375e-06\n",
      "Epoch 85/100\n",
      "313/313 [==============================] - 0s 862us/step - loss: 7.5590e-06\n",
      "Epoch 86/100\n",
      "313/313 [==============================] - 0s 854us/step - loss: 7.6229e-06\n",
      "Epoch 87/100\n",
      "313/313 [==============================] - 0s 838us/step - loss: 7.4871e-06\n",
      "Epoch 88/100\n",
      "313/313 [==============================] - 0s 864us/step - loss: 7.4170e-06\n",
      "Epoch 89/100\n",
      "313/313 [==============================] - 0s 862us/step - loss: 7.4588e-06\n",
      "Epoch 90/100\n",
      "313/313 [==============================] - 0s 847us/step - loss: 7.2357e-06\n",
      "Epoch 91/100\n",
      "313/313 [==============================] - 0s 831us/step - loss: 7.1576e-06\n",
      "Epoch 92/100\n",
      "313/313 [==============================] - 0s 832us/step - loss: 7.1688e-06\n",
      "Epoch 93/100\n"
     ]
    },
    {
     "name": "stdout",
     "output_type": "stream",
     "text": [
      "313/313 [==============================] - 0s 862us/step - loss: 7.1459e-06\n",
      "Epoch 94/100\n",
      "313/313 [==============================] - 0s 824us/step - loss: 7.0740e-06\n",
      "Epoch 95/100\n",
      "313/313 [==============================] - 0s 842us/step - loss: 7.0373e-06\n",
      "Epoch 96/100\n",
      "313/313 [==============================] - 0s 860us/step - loss: 7.0033e-06\n",
      "Epoch 97/100\n",
      "313/313 [==============================] - 0s 848us/step - loss: 6.7087e-06\n",
      "Epoch 98/100\n",
      "313/313 [==============================] - 0s 860us/step - loss: 7.1075e-06\n",
      "Epoch 99/100\n",
      "313/313 [==============================] - 0s 840us/step - loss: 6.5327e-06\n",
      "Epoch 100/100\n",
      "313/313 [==============================] - 0s 826us/step - loss: 6.5301e-06\n"
     ]
    },
    {
     "data": {
      "text/plain": [
       "<tensorflow.python.keras.callbacks.History at 0x7ff35c5a10b8>"
      ]
     },
     "execution_count": 7,
     "metadata": {},
     "output_type": "execute_result"
    }
   ],
   "source": [
    "model.fit(x=samples, y=probs, epochs=100)"
   ]
  },
  {
   "cell_type": "code",
   "execution_count": 8,
   "metadata": {},
   "outputs": [],
   "source": [
    "probs_pred = model(samples)"
   ]
  },
  {
   "cell_type": "code",
   "execution_count": 9,
   "metadata": {
    "scrolled": true
   },
   "outputs": [
    {
     "data": {
      "text/plain": [
       "<matplotlib.tri.tricontour.TriContourSet at 0x7ff32c134f98>"
      ]
     },
     "execution_count": 9,
     "metadata": {},
     "output_type": "execute_result"
    },
    {
     "data": {
      "image/png": "[encoded data removed]",
      "text/plain": [
       "<Figure size 432x288 with 1 Axes>"
      ]
     },
     "metadata": {
      "needs_background": "light"
     },
     "output_type": "display_data"
    }
   ],
   "source": [
    "plt.tricontourf(*samples.numpy().T, probs_pred[:, 0])"
   ]
  }
 ],
 "metadata": {
  "kernelspec": {
   "display_name": "Python (myenv)",
   "language": "python",
   "name": "myenv"
  },
  "language_info": {
   "codemirror_mode": {
    "name": "ipython",
    "version": 3
   },
   "file_extension": ".py",
   "mimetype": "text/x-python",
   "name": "python",
   "nbconvert_exporter": "python",
   "pygments_lexer": "ipython3",
   "version": "3.6.8"
  }
 },
 "nbformat": 4,
 "nbformat_minor": 4
}
